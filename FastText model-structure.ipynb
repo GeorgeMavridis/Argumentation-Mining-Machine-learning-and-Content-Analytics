{
 "cells": [
  {
   "cell_type": "code",
   "execution_count": 2,
   "metadata": {
    "colab": {
     "base_uri": "https://localhost:8080/"
    },
    "executionInfo": {
     "elapsed": 44152,
     "status": "ok",
     "timestamp": 1630783466566,
     "user": {
      "displayName": "Georgios Mavridis",
      "photoUrl": "https://lh3.googleusercontent.com/a-/AOh14GiuNeXMs3Lbw-bAMQ8PktpurU3LNPZlESNInMAK0w=s64",
      "userId": "07496280154128810280"
     },
     "user_tz": -180
    },
    "id": "oWP2l_d-Pbxv",
    "outputId": "d1e24caa-528c-4a3c-dd3f-5ef73ccdc25b"
   },
   "outputs": [
    {
     "name": "stdout",
     "output_type": "stream",
     "text": [
      "Collecting fasttext\n",
      "  Downloading fasttext-0.9.2.tar.gz (68 kB)\n",
      "\u001b[?25l\r",
      "\u001b[K     |████▊                           | 10 kB 21.8 MB/s eta 0:00:01\r",
      "\u001b[K     |█████████▌                      | 20 kB 27.5 MB/s eta 0:00:01\r",
      "\u001b[K     |██████████████▎                 | 30 kB 32.8 MB/s eta 0:00:01\r",
      "\u001b[K     |███████████████████             | 40 kB 37.5 MB/s eta 0:00:01\r",
      "\u001b[K     |███████████████████████▉        | 51 kB 13.0 MB/s eta 0:00:01\r",
      "\u001b[K     |████████████████████████████▋   | 61 kB 13.0 MB/s eta 0:00:01\r",
      "\u001b[K     |████████████████████████████████| 68 kB 2.8 MB/s \n",
      "\u001b[?25hCollecting pybind11>=2.2\n",
      "  Using cached pybind11-2.7.1-py2.py3-none-any.whl (200 kB)\n",
      "Requirement already satisfied: setuptools>=0.7.0 in /usr/local/lib/python3.7/dist-packages (from fasttext) (57.4.0)\n",
      "Requirement already satisfied: numpy in /usr/local/lib/python3.7/dist-packages (from fasttext) (1.19.5)\n",
      "Building wheels for collected packages: fasttext\n",
      "  Building wheel for fasttext (setup.py) ... \u001b[?25l\u001b[?25hdone\n",
      "  Created wheel for fasttext: filename=fasttext-0.9.2-cp37-cp37m-linux_x86_64.whl size=3094357 sha256=a63d44734e4931ea534fa03cca846d011617e73e0458c1bdc9dd7d4d2d1f60ec\n",
      "  Stored in directory: /root/.cache/pip/wheels/4e/ca/bf/b020d2be95f7641801a6597a29c8f4f19e38f9c02a345bab9b\n",
      "Successfully built fasttext\n",
      "Installing collected packages: pybind11, fasttext\n",
      "Successfully installed fasttext-0.9.2 pybind11-2.7.1\n"
     ]
    }
   ],
   "source": [
    "#fasttext installation\n",
    "!pip install fasttext"
   ]
  },
  {
   "cell_type": "code",
   "execution_count": 3,
   "metadata": {
    "executionInfo": {
     "elapsed": 2162,
     "status": "ok",
     "timestamp": 1630783478483,
     "user": {
      "displayName": "Georgios Mavridis",
      "photoUrl": "https://lh3.googleusercontent.com/a-/AOh14GiuNeXMs3Lbw-bAMQ8PktpurU3LNPZlESNInMAK0w=s64",
      "userId": "07496280154128810280"
     },
     "user_tz": -180
    },
    "id": "u9mJU6_APfiv"
   },
   "outputs": [],
   "source": [
    "# Importing libraries\n",
    "# splitting in train-validation-test sets in a stratified manner.\n",
    "from sklearn.model_selection import train_test_split\n",
    "import numpy as np, pandas as pd\n",
    "# NLP Preprocessing\n",
    "from gensim.utils import simple_preprocess\n",
    "import fasttext\n",
    "import csv\n",
    "from sklearn import metrics"
   ]
  },
  {
   "cell_type": "code",
   "execution_count": 4,
   "metadata": {
    "colab": {
     "base_uri": "https://localhost:8080/",
     "height": 221
    },
    "executionInfo": {
     "elapsed": 759,
     "status": "ok",
     "timestamp": 1630783483409,
     "user": {
      "displayName": "Georgios Mavridis",
      "photoUrl": "https://lh3.googleusercontent.com/a-/AOh14GiuNeXMs3Lbw-bAMQ8PktpurU3LNPZlESNInMAK0w=s64",
      "userId": "07496280154128810280"
     },
     "user_tz": -180
    },
    "id": "TUewsNA9Kr2x",
    "outputId": "82183952-2a5c-46ef-e592-a88f15971082"
   },
   "outputs": [
    {
     "name": "stdout",
     "output_type": "stream",
     "text": [
      "Dataset length: 1014 abstracts\n"
     ]
    },
    {
     "data": {
      "text/html": [
       "<div>\n",
       "<style scoped>\n",
       "    .dataframe tbody tr th:only-of-type {\n",
       "        vertical-align: middle;\n",
       "    }\n",
       "\n",
       "    .dataframe tbody tr th {\n",
       "        vertical-align: top;\n",
       "    }\n",
       "\n",
       "    .dataframe thead th {\n",
       "        text-align: right;\n",
       "    }\n",
       "</style>\n",
       "<table border=\"1\" class=\"dataframe\">\n",
       "  <thead>\n",
       "    <tr style=\"text-align: right;\">\n",
       "      <th></th>\n",
       "      <th>document</th>\n",
       "      <th>sentences</th>\n",
       "      <th>labels</th>\n",
       "    </tr>\n",
       "  </thead>\n",
       "  <tbody>\n",
       "    <tr>\n",
       "      <th>963</th>\n",
       "      <td>doi: 10.5194/acp-19-11315-2019</td>\n",
       "      <td>[Retrieval of ice-nucleating particle concentr...</td>\n",
       "      <td>[NEITHER, OBJECTIVE, BACKGROUND, BACKGROUND, B...</td>\n",
       "    </tr>\n",
       "    <tr>\n",
       "      <th>519</th>\n",
       "      <td>doi: 10.1039/c6tc01409g</td>\n",
       "      <td>[Design, synthesis, chemical stability, packin...</td>\n",
       "      <td>[NEITHER, OBJECTIVE, METHOD, RESULT, RESULT, R...</td>\n",
       "    </tr>\n",
       "    <tr>\n",
       "      <th>199</th>\n",
       "      <td>doi: 10.1016/j.hal.2019.101655</td>\n",
       "      <td>[Climate change and harmful benthic microalgae...</td>\n",
       "      <td>[NEITHER, BACKGROUND, RESULT, RESULT, RESULT, ...</td>\n",
       "    </tr>\n",
       "    <tr>\n",
       "      <th>907</th>\n",
       "      <td>doi: 10.3389/fphys.2018.00213</td>\n",
       "      <td>[Distinct ECG Phenotypes Identified in Hypertr...</td>\n",
       "      <td>[NEITHER, OBJECTIVE, OBJECTIVE, METHOD, METHOD...</td>\n",
       "    </tr>\n",
       "    <tr>\n",
       "      <th>235</th>\n",
       "      <td>doi: 10.1016/j.matbio.2018.04.006</td>\n",
       "      <td>[Liver fibrosis: Direct antifibrotic agents an...</td>\n",
       "      <td>[NEITHER, BACKGROUND, BACKGROUND, BACKGROUND, ...</td>\n",
       "    </tr>\n",
       "  </tbody>\n",
       "</table>\n",
       "</div>"
      ],
      "text/plain": [
       "                              document  ...                                             labels\n",
       "963     doi: 10.5194/acp-19-11315-2019  ...  [NEITHER, OBJECTIVE, BACKGROUND, BACKGROUND, B...\n",
       "519            doi: 10.1039/c6tc01409g  ...  [NEITHER, OBJECTIVE, METHOD, RESULT, RESULT, R...\n",
       "199     doi: 10.1016/j.hal.2019.101655  ...  [NEITHER, BACKGROUND, RESULT, RESULT, RESULT, ...\n",
       "907      doi: 10.3389/fphys.2018.00213  ...  [NEITHER, OBJECTIVE, OBJECTIVE, METHOD, METHOD...\n",
       "235  doi: 10.1016/j.matbio.2018.04.006  ...  [NEITHER, BACKGROUND, BACKGROUND, BACKGROUND, ...\n",
       "\n",
       "[5 rows x 3 columns]"
      ]
     },
     "execution_count": 4,
     "metadata": {},
     "output_type": "execute_result"
    }
   ],
   "source": [
    "import json\n",
    "import pandas as pd\n",
    "\n",
    "label2id = {\n",
    "    'NONE': 0,\n",
    "    'EVIDENCE': 1,\n",
    "    'CLAIM': 2}\n",
    "\n",
    "def load_corpus(path, label_mapping=None):\n",
    "    with open(path) as fp:\n",
    "        corpus = json.load(fp)\n",
    "\n",
    "    documents, texts, labels = [], [], []\n",
    "    for abstract in corpus:\n",
    "        documents.append(abstract)\n",
    "        texts.append(corpus[abstract]['sentences'])\n",
    "        if isinstance(label_mapping, dict):\n",
    "            labels.append(\n",
    "                [label_mapping[str(l).upper()]\n",
    "                    for l in corpus[abstract]['labels']])\n",
    "        else:\n",
    "            labels.append([str(l).upper() for l in corpus[abstract]['labels']])\n",
    "\n",
    "    assert len(texts) == len(labels)\n",
    "    data = pd.DataFrame(\n",
    "        zip(documents, texts, labels),\n",
    "        columns=['document', 'sentences', 'labels'])\n",
    "\n",
    "    return data\n",
    "\n",
    "data = load_corpus('dataset_aueb_structure_v2.json') #, label_mapping=label2id)\n",
    "print(f'Dataset length: {len(data)} abstracts')\n",
    "data.sample(5)"
   ]
  },
  {
   "cell_type": "markdown",
   "metadata": {
    "id": "YFzVJQRmQQXR"
   },
   "source": [
    "## Split Documents\n",
    "For the cases we want the sentences separated, the following splits the documents. I keep the same document index in a new column in order to re-group the sentences to a document (e.g., after predictions)."
   ]
  },
  {
   "cell_type": "code",
   "execution_count": 5,
   "metadata": {
    "colab": {
     "base_uri": "https://localhost:8080/",
     "height": 418
    },
    "executionInfo": {
     "elapsed": 463,
     "status": "ok",
     "timestamp": 1630783488482,
     "user": {
      "displayName": "Georgios Mavridis",
      "photoUrl": "https://lh3.googleusercontent.com/a-/AOh14GiuNeXMs3Lbw-bAMQ8PktpurU3LNPZlESNInMAK0w=s64",
      "userId": "07496280154128810280"
     },
     "user_tz": -180
    },
    "id": "i4tdC6HeQVJ-",
    "outputId": "1a789ce1-a643-4e86-e4d5-4163610d077c"
   },
   "outputs": [
    {
     "data": {
      "text/html": [
       "<div>\n",
       "<style scoped>\n",
       "    .dataframe tbody tr th:only-of-type {\n",
       "        vertical-align: middle;\n",
       "    }\n",
       "\n",
       "    .dataframe tbody tr th {\n",
       "        vertical-align: top;\n",
       "    }\n",
       "\n",
       "    .dataframe thead th {\n",
       "        text-align: right;\n",
       "    }\n",
       "</style>\n",
       "<table border=\"1\" class=\"dataframe\">\n",
       "  <thead>\n",
       "    <tr style=\"text-align: right;\">\n",
       "      <th></th>\n",
       "      <th>doc_id</th>\n",
       "      <th>sentence</th>\n",
       "    </tr>\n",
       "  </thead>\n",
       "  <tbody>\n",
       "    <tr>\n",
       "      <th>0</th>\n",
       "      <td>0</td>\n",
       "      <td>Concordance Between Different Amyloid Immunoas...</td>\n",
       "    </tr>\n",
       "    <tr>\n",
       "      <th>1</th>\n",
       "      <td>0</td>\n",
       "      <td>Importance Visual assessment of amyloid positr...</td>\n",
       "    </tr>\n",
       "    <tr>\n",
       "      <th>2</th>\n",
       "      <td>0</td>\n",
       "      <td>Several immunoassays have been developed to me...</td>\n",
       "    </tr>\n",
       "    <tr>\n",
       "      <th>3</th>\n",
       "      <td>0</td>\n",
       "      <td>The agreement between CSF Aβ42 measures from d...</td>\n",
       "    </tr>\n",
       "    <tr>\n",
       "      <th>4</th>\n",
       "      <td>0</td>\n",
       "      <td>Objective To determine the concordance between...</td>\n",
       "    </tr>\n",
       "    <tr>\n",
       "      <th>...</th>\n",
       "      <td>...</td>\n",
       "      <td>...</td>\n",
       "    </tr>\n",
       "    <tr>\n",
       "      <th>10543</th>\n",
       "      <td>1013</td>\n",
       "      <td>Instead, SBPs sample a range of conformations ...</td>\n",
       "    </tr>\n",
       "    <tr>\n",
       "      <th>10544</th>\n",
       "      <td>1013</td>\n",
       "      <td>Certain non-transported ligands leave the stru...</td>\n",
       "    </tr>\n",
       "    <tr>\n",
       "      <th>10545</th>\n",
       "      <td>1013</td>\n",
       "      <td>Intriguingly, in some cases, similar SBP confo...</td>\n",
       "    </tr>\n",
       "    <tr>\n",
       "      <th>10546</th>\n",
       "      <td>1013</td>\n",
       "      <td>In this case, the inability for transport aris...</td>\n",
       "    </tr>\n",
       "    <tr>\n",
       "      <th>10547</th>\n",
       "      <td>1013</td>\n",
       "      <td>Our results reveal the complex interplay betwe...</td>\n",
       "    </tr>\n",
       "  </tbody>\n",
       "</table>\n",
       "<p>10548 rows × 2 columns</p>\n",
       "</div>"
      ],
      "text/plain": [
       "       doc_id                                           sentence\n",
       "0           0  Concordance Between Different Amyloid Immunoas...\n",
       "1           0  Importance Visual assessment of amyloid positr...\n",
       "2           0  Several immunoassays have been developed to me...\n",
       "3           0  The agreement between CSF Aβ42 measures from d...\n",
       "4           0  Objective To determine the concordance between...\n",
       "...       ...                                                ...\n",
       "10543    1013  Instead, SBPs sample a range of conformations ...\n",
       "10544    1013  Certain non-transported ligands leave the stru...\n",
       "10545    1013  Intriguingly, in some cases, similar SBP confo...\n",
       "10546    1013  In this case, the inability for transport aris...\n",
       "10547    1013  Our results reveal the complex interplay betwe...\n",
       "\n",
       "[10548 rows x 2 columns]"
      ]
     },
     "execution_count": 5,
     "metadata": {},
     "output_type": "execute_result"
    }
   ],
   "source": [
    "#title Split to sentences\n",
    "sentences = data['sentences'].explode().reset_index().rename(\n",
    "    columns={'index': 'doc_id', 'sentences': 'sentence'})\n",
    "sentences\n"
   ]
  },
  {
   "cell_type": "code",
   "execution_count": 6,
   "metadata": {
    "colab": {
     "base_uri": "https://localhost:8080/",
     "height": 418
    },
    "executionInfo": {
     "elapsed": 393,
     "status": "ok",
     "timestamp": 1630783504576,
     "user": {
      "displayName": "Georgios Mavridis",
      "photoUrl": "https://lh3.googleusercontent.com/a-/AOh14GiuNeXMs3Lbw-bAMQ8PktpurU3LNPZlESNInMAK0w=s64",
      "userId": "07496280154128810280"
     },
     "user_tz": -180
    },
    "id": "F_lqJUDgmZ3H",
    "outputId": "df15703d-b226-49dc-ab96-2473258ffab5"
   },
   "outputs": [
    {
     "data": {
      "text/html": [
       "<div>\n",
       "<style scoped>\n",
       "    .dataframe tbody tr th:only-of-type {\n",
       "        vertical-align: middle;\n",
       "    }\n",
       "\n",
       "    .dataframe tbody tr th {\n",
       "        vertical-align: top;\n",
       "    }\n",
       "\n",
       "    .dataframe thead th {\n",
       "        text-align: right;\n",
       "    }\n",
       "</style>\n",
       "<table border=\"1\" class=\"dataframe\">\n",
       "  <thead>\n",
       "    <tr style=\"text-align: right;\">\n",
       "      <th></th>\n",
       "      <th>doc_id</th>\n",
       "      <th>label</th>\n",
       "    </tr>\n",
       "  </thead>\n",
       "  <tbody>\n",
       "    <tr>\n",
       "      <th>0</th>\n",
       "      <td>0</td>\n",
       "      <td>NEITHER</td>\n",
       "    </tr>\n",
       "    <tr>\n",
       "      <th>1</th>\n",
       "      <td>0</td>\n",
       "      <td>BACKGROUND</td>\n",
       "    </tr>\n",
       "    <tr>\n",
       "      <th>2</th>\n",
       "      <td>0</td>\n",
       "      <td>BACKGROUND</td>\n",
       "    </tr>\n",
       "    <tr>\n",
       "      <th>3</th>\n",
       "      <td>0</td>\n",
       "      <td>BACKGROUND</td>\n",
       "    </tr>\n",
       "    <tr>\n",
       "      <th>4</th>\n",
       "      <td>0</td>\n",
       "      <td>OBJECTIVE</td>\n",
       "    </tr>\n",
       "    <tr>\n",
       "      <th>...</th>\n",
       "      <td>...</td>\n",
       "      <td>...</td>\n",
       "    </tr>\n",
       "    <tr>\n",
       "      <th>10543</th>\n",
       "      <td>1013</td>\n",
       "      <td>METHOD</td>\n",
       "    </tr>\n",
       "    <tr>\n",
       "      <th>10544</th>\n",
       "      <td>1013</td>\n",
       "      <td>RESULT</td>\n",
       "    </tr>\n",
       "    <tr>\n",
       "      <th>10545</th>\n",
       "      <td>1013</td>\n",
       "      <td>RESULT</td>\n",
       "    </tr>\n",
       "    <tr>\n",
       "      <th>10546</th>\n",
       "      <td>1013</td>\n",
       "      <td>RESULT</td>\n",
       "    </tr>\n",
       "    <tr>\n",
       "      <th>10547</th>\n",
       "      <td>1013</td>\n",
       "      <td>CONCLUSION</td>\n",
       "    </tr>\n",
       "  </tbody>\n",
       "</table>\n",
       "<p>10548 rows × 2 columns</p>\n",
       "</div>"
      ],
      "text/plain": [
       "       doc_id       label\n",
       "0           0     NEITHER\n",
       "1           0  BACKGROUND\n",
       "2           0  BACKGROUND\n",
       "3           0  BACKGROUND\n",
       "4           0   OBJECTIVE\n",
       "...       ...         ...\n",
       "10543    1013      METHOD\n",
       "10544    1013      RESULT\n",
       "10545    1013      RESULT\n",
       "10546    1013      RESULT\n",
       "10547    1013  CONCLUSION\n",
       "\n",
       "[10548 rows x 2 columns]"
      ]
     },
     "execution_count": 6,
     "metadata": {},
     "output_type": "execute_result"
    }
   ],
   "source": [
    "# and the corresponding labels\n",
    "labels = data['labels'].explode().reset_index().rename(\n",
    "    columns={'index': 'doc_id', 'labels': 'label'})\n",
    "labels"
   ]
  },
  {
   "cell_type": "code",
   "execution_count": 7,
   "metadata": {
    "executionInfo": {
     "elapsed": 342,
     "status": "ok",
     "timestamp": 1630783508512,
     "user": {
      "displayName": "Georgios Mavridis",
      "photoUrl": "https://lh3.googleusercontent.com/a-/AOh14GiuNeXMs3Lbw-bAMQ8PktpurU3LNPZlESNInMAK0w=s64",
      "userId": "07496280154128810280"
     },
     "user_tz": -180
    },
    "id": "hMwtxEIpQZmr"
   },
   "outputs": [],
   "source": [
    "sentences['sentence'] = sentences['sentence'].astype(\"string\")\n",
    "# remove any blanks from the start and the and of the string\n",
    "sentences['sentence'] = sentences['sentence'].str.strip()\n",
    "sentences[\"label\"]=labels[\"label\"]\n",
    "data=sentences"
   ]
  },
  {
   "cell_type": "code",
   "execution_count": 8,
   "metadata": {
    "executionInfo": {
     "elapsed": 363,
     "status": "ok",
     "timestamp": 1630783534963,
     "user": {
      "displayName": "Georgios Mavridis",
      "photoUrl": "https://lh3.googleusercontent.com/a-/AOh14GiuNeXMs3Lbw-bAMQ8PktpurU3LNPZlESNInMAK0w=s64",
      "userId": "07496280154128810280"
     },
     "user_tz": -180
    },
    "id": "EBpYRKdQQZsQ"
   },
   "outputs": [],
   "source": [
    "#create new train and test set for fasttext\n",
    "X_train_val, X_test, y_train_val, y_test = train_test_split(data['sentence'],\n",
    "                                                            data['label'],\n",
    "                                                            test_size=0.15,\n",
    "                                                            random_state=42,\n",
    "                                                            stratify=data['label'])"
   ]
  },
  {
   "cell_type": "code",
   "execution_count": 9,
   "metadata": {
    "executionInfo": {
     "elapsed": 7,
     "status": "ok",
     "timestamp": 1630783536439,
     "user": {
      "displayName": "Georgios Mavridis",
      "photoUrl": "https://lh3.googleusercontent.com/a-/AOh14GiuNeXMs3Lbw-bAMQ8PktpurU3LNPZlESNInMAK0w=s64",
      "userId": "07496280154128810280"
     },
     "user_tz": -180
    },
    "id": "yHURqrGqQZvJ"
   },
   "outputs": [],
   "source": [
    "#create new train and validation set\n",
    "X_train,X_val, y_train, y_val = train_test_split(X_train_val,\n",
    "                                                y_train_val,\n",
    "                                                test_size=0.15,\n",
    "                                                random_state=42,\n",
    "                                                stratify=y_train_val)"
   ]
  },
  {
   "cell_type": "code",
   "execution_count": 10,
   "metadata": {
    "executionInfo": {
     "elapsed": 489,
     "status": "ok",
     "timestamp": 1630783538873,
     "user": {
      "displayName": "Georgios Mavridis",
      "photoUrl": "https://lh3.googleusercontent.com/a-/AOh14GiuNeXMs3Lbw-bAMQ8PktpurU3LNPZlESNInMAK0w=s64",
      "userId": "07496280154128810280"
     },
     "user_tz": -180
    },
    "id": "GZg4mkAJQZyC"
   },
   "outputs": [],
   "source": [
    "# Text Classification with fastText\n",
    "# Importing libraries\n",
    "import numpy as np, pandas as pd\n",
    "\n",
    "# NLP Preprocessing\n",
    "from gensim.utils import simple_preprocess\n",
    "\n",
    "# Importing the dataset\n",
    "df_train=pd.concat([X_train,y_train], axis=1)\n",
    "df_val =pd.concat([X_val,y_val], axis=1)\n",
    "df_test =pd.concat([X_test,y_test], axis=1)\n",
    "\n",
    "# NLP Preprocess\n",
    "df_train.iloc[:, 0] = df_train.iloc[:, 0].apply(lambda x: ' '.join(simple_preprocess(x)))\n",
    "df_val.iloc[:, 0] = df_val.iloc[:, 0].apply(lambda x: ' '.join(simple_preprocess(x)))\n",
    "df_test.iloc[:, 0] = df_test.iloc[:, 0].apply(lambda x: ' '.join(simple_preprocess(x)))\n",
    "\n",
    "\n",
    "# import nltk\n",
    "# from nltk.corpus import stopwords\n",
    "# nltk.download('stopwords')\n",
    "# stop = stopwords.words('english')\n",
    "# df_train['sentence'] = df_train['sentence'].apply(lambda x: ' '.join([word for word in x.split() if word not in (stop)]))\n",
    "# df_val['sentence'] = df_val['sentence'].apply(lambda x: ' '.join([word for word in x.split() if word not in (stop)]))\n",
    "# df_test['sentence'] = df_test['sentence'].apply(lambda x: ' '.join([word for word in x.split() if word not in (stop)]))\n",
    "\n",
    "# Prefixing each row of the category column with '__label__'\n",
    "df_train.iloc[:, 1] = df_train.iloc[:, 1].apply(lambda x: '__label__' + x)\n",
    "df_val.iloc[:, 1] = df_val.iloc[:, 1].apply(lambda x: '__label__' + x)\n",
    "df_test.iloc[:, 1] = df_test.iloc[:, 1].apply(lambda x: '__label__' + x)"
   ]
  },
  {
   "cell_type": "code",
   "execution_count": 11,
   "metadata": {
    "colab": {
     "base_uri": "https://localhost:8080/"
    },
    "executionInfo": {
     "elapsed": 12763,
     "status": "ok",
     "timestamp": 1630783557946,
     "user": {
      "displayName": "Georgios Mavridis",
      "photoUrl": "https://lh3.googleusercontent.com/a-/AOh14GiuNeXMs3Lbw-bAMQ8PktpurU3LNPZlESNInMAK0w=s64",
      "userId": "07496280154128810280"
     },
     "user_tz": -180
    },
    "id": "04wS1OShQaUa",
    "outputId": "226bbe74-8081-4d1b-d0cc-46e05137a6e5"
   },
   "outputs": [
    {
     "data": {
      "text/plain": [
       "(7620, 0.7161417322834646, 0.7161417322834646)"
      ]
     },
     "execution_count": 11,
     "metadata": {},
     "output_type": "execute_result"
    }
   ],
   "source": [
    "\n",
    "df_train[['label', 'sentence']].to_csv('train.txt', index = False, sep = ' ', header = None, \n",
    "                                          quoting = csv.QUOTE_NONE, quotechar = \"\",escapechar = \" \")\n",
    "\n",
    "df_test[['label', 'sentence']].to_csv('test.txt', index = False, sep = ' ', header = None, \n",
    "                                     quoting = csv.QUOTE_NONE, quotechar = \"\", escapechar = \" \")\n",
    "\n",
    "df_val[['label', 'sentence']].to_csv('valid.txt', index = False, sep = ' ', header = None, \n",
    "                                     quoting = csv.QUOTE_NONE, quotechar = \"\", escapechar = \" \")\n",
    "\n",
    "\n",
    "\n",
    "# Training the fastText classifier\n",
    "model = fasttext.train_supervised('train.txt',autotuneValidationFile='valid.txt', autotuneDuration=600)\n",
    "\n",
    "# Evaluating performance on train file\n",
    "\n",
    "model.test('train.txt')#overfitting"
   ]
  },
  {
   "cell_type": "code",
   "execution_count": null,
   "metadata": {
    "colab": {
     "base_uri": "https://localhost:8080/"
    },
    "executionInfo": {
     "elapsed": 243,
     "status": "ok",
     "timestamp": 1630605631779,
     "user": {
      "displayName": "Georgios Mavridis",
      "photoUrl": "https://lh3.googleusercontent.com/a-/AOh14GiuNeXMs3Lbw-bAMQ8PktpurU3LNPZlESNInMAK0w=s64",
      "userId": "07496280154128810280"
     },
     "user_tz": -180
    },
    "id": "HDWzPMlCQaX1",
    "outputId": "be327525-9810-4147-ee44-5802e04e95d6"
   },
   "outputs": [
    {
     "name": "stdout",
     "output_type": "stream",
     "text": [
      "autotuneDuration -> 300\n",
      "autotuneMetric -> f1\n",
      "autotuneModelSize -> \n",
      "autotunePredictions -> 1\n",
      "autotuneValidationFile -> \n",
      "bucket -> 0\n",
      "cutoff -> 0\n",
      "dim -> 110\n",
      "dsub -> 2\n",
      "epoch -> 5\n",
      "input -> train.txt\n",
      "label -> __label__\n",
      "loss -> loss_name.softmax\n",
      "lr -> 0.12\n",
      "lrUpdateRate -> 100\n",
      "maxn -> 0\n",
      "minCount -> 1\n",
      "minCountLabel -> 0\n",
      "minn -> 0\n",
      "model -> model_name.supervised\n",
      "neg -> 5\n",
      "output -> \n",
      "pretrainedVectors -> \n",
      "qnorm -> False\n",
      "qout -> False\n",
      "retrain -> False\n",
      "saveOutput -> False\n",
      "seed -> 0\n",
      "setManual -> <bound method PyCapsule.setManual of <fasttext_pybind.args object at 0x7fd9f13017b0>>\n",
      "t -> 0.0001\n",
      "thread -> 1\n",
      "verbose -> 2\n",
      "wordNgrams -> 1\n",
      "ws -> 5\n"
     ]
    }
   ],
   "source": [
    "#find hyperprameters for optimized model\n",
    "args_obj = model.f.getArgs()\n",
    "for hparam in dir(args_obj):\n",
    "    if not hparam.startswith('__'):\n",
    "        print(f\"{hparam} -> {getattr(args_obj, hparam)}\")"
   ]
  },
  {
   "cell_type": "code",
   "execution_count": 12,
   "metadata": {
    "executionInfo": {
     "elapsed": 781,
     "status": "ok",
     "timestamp": 1630783571315,
     "user": {
      "displayName": "Georgios Mavridis",
      "photoUrl": "https://lh3.googleusercontent.com/a-/AOh14GiuNeXMs3Lbw-bAMQ8PktpurU3LNPZlESNInMAK0w=s64",
      "userId": "07496280154128810280"
     },
     "user_tz": -180
    },
    "id": "CEpUfyjiRQh-"
   },
   "outputs": [],
   "source": [
    "#set manually the hyperparameters to reduce overfitting\n",
    "model = fasttext.train_supervised('train.txt',epoch=5,dim=110,lr=0.12)"
   ]
  },
  {
   "cell_type": "code",
   "execution_count": 13,
   "metadata": {
    "executionInfo": {
     "elapsed": 6,
     "status": "ok",
     "timestamp": 1630783574362,
     "user": {
      "displayName": "Georgios Mavridis",
      "photoUrl": "https://lh3.googleusercontent.com/a-/AOh14GiuNeXMs3Lbw-bAMQ8PktpurU3LNPZlESNInMAK0w=s64",
      "userId": "07496280154128810280"
     },
     "user_tz": -180
    },
    "id": "iie8wtdKRQk_"
   },
   "outputs": [],
   "source": [
    "#create a list with sentence and labels for train and test set\n",
    "with open(\"train.txt\") as file_in:\n",
    "    lines_tr = []\n",
    "    for line in file_in:\n",
    "        line = line.rstrip('\\n')\n",
    "        lines_tr.append(line)\n",
    "\n",
    "with open(\"test.txt\") as file_in:\n",
    "    lines_te = []\n",
    "    for line in file_in:\n",
    "        line = line.rstrip('\\n')\n",
    "        lines_te.append(line)"
   ]
  },
  {
   "cell_type": "code",
   "execution_count": 14,
   "metadata": {
    "executionInfo": {
     "elapsed": 328,
     "status": "ok",
     "timestamp": 1630783578439,
     "user": {
      "displayName": "Georgios Mavridis",
      "photoUrl": "https://lh3.googleusercontent.com/a-/AOh14GiuNeXMs3Lbw-bAMQ8PktpurU3LNPZlESNInMAK0w=s64",
      "userId": "07496280154128810280"
     },
     "user_tz": -180
    },
    "id": "9iTyvXRERQni"
   },
   "outputs": [],
   "source": [
    "#predictions for training set\n",
    "train_pred=[]\n",
    "for i in lines_tr:\n",
    "  x=model.predict(i)\n",
    "  train_pred.append(x)# append tuple to list\n",
    "\n",
    "tr_pred=[]\n",
    "for a,b in train_pred:#tuple unpacking\n",
    "   a=''.join(a)\n",
    "   tr_pred.append(a)\n",
    "\n",
    "#predictions for test set\n",
    "test_pred=[]\n",
    "for i in lines_te:\n",
    "  x=model.predict(i)\n",
    "  test_pred.append(x)#append tuple to list\n",
    "\n",
    "ts_pred=[]\n",
    "for a,b in test_pred:#tuple unpacking\n",
    "   a=''.join(a)\n",
    "   ts_pred.append(a)\n"
   ]
  },
  {
   "cell_type": "code",
   "execution_count": 15,
   "metadata": {
    "colab": {
     "base_uri": "https://localhost:8080/"
    },
    "executionInfo": {
     "elapsed": 483,
     "status": "ok",
     "timestamp": 1630783582437,
     "user": {
      "displayName": "Georgios Mavridis",
      "photoUrl": "https://lh3.googleusercontent.com/a-/AOh14GiuNeXMs3Lbw-bAMQ8PktpurU3LNPZlESNInMAK0w=s64",
      "userId": "07496280154128810280"
     },
     "user_tz": -180
    },
    "id": "_uPozHpzRQp8",
    "outputId": "98cee926-1b75-49d7-d70c-4d6a76711fd1"
   },
   "outputs": [
    {
     "name": "stdout",
     "output_type": "stream",
     "text": [
      "                     precision    recall  f1-score   support\n",
      "\n",
      "__label__BACKGROUND       0.81      0.63      0.71      1986\n",
      "__label__CONCLUSION       0.13      0.66      0.22       176\n",
      "    __label__METHOD       0.47      0.68      0.55       792\n",
      "   __label__NEITHER       0.88      0.80      0.84       806\n",
      " __label__OBJECTIVE       0.71      0.74      0.72      1287\n",
      "    __label__RESULT       0.85      0.65      0.74      2573\n",
      "\n",
      "           accuracy                           0.68      7620\n",
      "          macro avg       0.64      0.69      0.63      7620\n",
      "       weighted avg       0.76      0.68      0.71      7620\n",
      "\n",
      "\n",
      "[[1247  320  108   38  131  142]\n",
      " [  13  117   18    3   17    8]\n",
      " [  24   52  540    3   93   80]\n",
      " [  49   49   21  643   34   10]\n",
      " [  50   74  141   24  948   50]\n",
      " [ 155  285  330   22  117 1664]]\n"
     ]
    }
   ],
   "source": [
    "\n",
    "print(metrics.classification_report(tr_pred,df_train['label']))#print precision,recall, f1-score\n",
    "print()\n",
    "print(metrics.confusion_matrix(tr_pred,df_train['label']))#print confusion matrix"
   ]
  },
  {
   "cell_type": "code",
   "execution_count": 16,
   "metadata": {
    "colab": {
     "base_uri": "https://localhost:8080/"
    },
    "executionInfo": {
     "elapsed": 415,
     "status": "ok",
     "timestamp": 1630783587949,
     "user": {
      "displayName": "Georgios Mavridis",
      "photoUrl": "https://lh3.googleusercontent.com/a-/AOh14GiuNeXMs3Lbw-bAMQ8PktpurU3LNPZlESNInMAK0w=s64",
      "userId": "07496280154128810280"
     },
     "user_tz": -180
    },
    "id": "msp5eeQMRQtc",
    "outputId": "96818769-85b7-42e5-8716-6d484ad7432a"
   },
   "outputs": [
    {
     "name": "stdout",
     "output_type": "stream",
     "text": [
      "                     precision    recall  f1-score   support\n",
      "\n",
      "__label__BACKGROUND       0.74      0.56      0.64       420\n",
      "__label__CONCLUSION       0.11      0.68      0.19        31\n",
      "    __label__METHOD       0.41      0.60      0.49       165\n",
      "   __label__NEITHER       0.70      0.68      0.69       155\n",
      " __label__OBJECTIVE       0.62      0.62      0.62       277\n",
      "    __label__RESULT       0.77      0.58      0.66       535\n",
      "\n",
      "           accuracy                           0.60      1583\n",
      "          macro avg       0.56      0.62      0.55      1583\n",
      "       weighted avg       0.68      0.60      0.62      1583\n",
      "\n",
      "\n",
      "[[236  68  33  11  31  41]\n",
      " [  4  21   2   0   1   3]\n",
      " [  3   8  99   6  24  25]\n",
      " [ 10  11   9 106  11   8]\n",
      " [ 18  17  36  15 173  18]\n",
      " [ 49  61  61  14  39 311]]\n"
     ]
    }
   ],
   "source": [
    "\n",
    "print(metrics.classification_report(ts_pred,df_test['label']))#print precision,recall, f1-score\n",
    "print()\n",
    "print(metrics.confusion_matrix(ts_pred,df_test['label']))#print confusion matrix"
   ]
  }
 ],
 "metadata": {
  "colab": {
   "authorship_tag": "ABX9TyMWr4CkluWRK78RJIeSvOX8",
   "collapsed_sections": [],
   "name": "fasttext-structure.ipynb",
   "provenance": [
    {
     "file_id": "1e2w0Ty7-Y8Cd9JOHI-5M1u0ftcIfpfDd",
     "timestamp": 1630255021414
    }
   ]
  },
  "kernelspec": {
   "display_name": "Python 3",
   "language": "python",
   "name": "python3"
  },
  "language_info": {
   "codemirror_mode": {
    "name": "ipython",
    "version": 3
   },
   "file_extension": ".py",
   "mimetype": "text/x-python",
   "name": "python",
   "nbconvert_exporter": "python",
   "pygments_lexer": "ipython3",
   "version": "3.8.5"
  }
 },
 "nbformat": 4,
 "nbformat_minor": 1
}
